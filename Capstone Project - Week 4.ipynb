{
 "cells": [
  {
   "cell_type": "markdown",
   "metadata": {},
   "source": [
    "## Introduction"
   ]
  },
  {
   "cell_type": "markdown",
   "metadata": {},
   "source": [
    "Located in the north coast of Portugal and famous for its food, wine and beaches, Porto has been growing as one of the most attractive destinations worldwide. This has not only been recognized by the prizes own (World Travel Awards: https://www.worldtravelawards.com/profile-34429-porto-tourism) but also by the increasing the number of tourist arrivals - grew over 70% from 2013 to 2019.\n",
    "\n",
    "This tendency has been followed by new investments in Porto and in deverse sectors - from real estate to the opening of subsidiaries / offices of many multinational companies in the city.\n",
    "\n",
    "Having said that, in this section we will examine the different municipalities in Porto and select the best locations to open an Italian restaurant."
   ]
  },
  {
   "cell_type": "markdown",
   "metadata": {},
   "source": [
    "## Data overview"
   ]
  },
  {
   "cell_type": "markdown",
   "metadata": {},
   "source": [
    "In order to analyze the best counties to open the restaurant, we will start by retrieving their respective latitudes and longitudes from https://simplemaps.com/data/pt-cities. Through this file, we can also get the number of people living in each municipality, which can be a good indicator for the market size. This will be done by reading the csv file and cleaning the data.\n",
    "\n",
    "As we will be able to see, Porto is composed by 18 municipalities and has roughly 2 million inhabitants. "
   ]
  },
  {
   "cell_type": "markdown",
   "metadata": {},
   "source": [
    "The second step, will be to get the Venues data in each county, by using the Foursquare API."
   ]
  }
 ],
 "metadata": {
  "kernelspec": {
   "display_name": "Python 3",
   "language": "python",
   "name": "python3"
  },
  "language_info": {
   "codemirror_mode": {
    "name": "ipython",
    "version": 3
   },
   "file_extension": ".py",
   "mimetype": "text/x-python",
   "name": "python",
   "nbconvert_exporter": "python",
   "pygments_lexer": "ipython3",
   "version": "3.7.6"
  }
 },
 "nbformat": 4,
 "nbformat_minor": 4
}
